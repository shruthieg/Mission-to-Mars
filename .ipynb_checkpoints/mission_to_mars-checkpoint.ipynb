{
 "cells": [
  {
   "cell_type": "code",
   "execution_count": 1,
   "metadata": {},
   "outputs": [],
   "source": [
    "# import dependicies\n",
    "from bs4 import BeautifulSoup as bs\n",
    "import requests\n",
    "from splinter import Browser\n",
    "import time\n",
    "import pandas as pd\n",
    "import numpy as np\n",
    "from splinter.exceptions import ElementDoesNotExist"
   ]
  },
  {
   "cell_type": "code",
   "execution_count": 2,
   "metadata": {},
   "outputs": [],
   "source": [
    "executable_path = {'executable_path': 'C:\\Program Files\\chromedriver.exe'}\n",
    "browser = Browser('chrome', **executable_path, headless=False)"
   ]
  },
  {
   "cell_type": "markdown",
   "metadata": {},
   "source": [
    "# NASA Mars News"
   ]
  },
  {
   "cell_type": "code",
   "execution_count": 3,
   "metadata": {},
   "outputs": [],
   "source": [
    "url = 'https://mars.nasa.gov/news/'\n",
    "browser.visit(url)"
   ]
  },
  {
   "cell_type": "code",
   "execution_count": 5,
   "metadata": {},
   "outputs": [],
   "source": [
    "html = browser.html\n",
    "soup = bs(html, 'html.parser')"
   ]
  },
  {
   "cell_type": "code",
   "execution_count": 6,
   "metadata": {},
   "outputs": [],
   "source": [
    "content_titles = soup.find_all('div', class_ = 'content_title')"
   ]
  },
  {
   "cell_type": "code",
   "execution_count": 7,
   "metadata": {},
   "outputs": [],
   "source": [
    "# initalize lists\n",
    "titles = []\n",
    "paragraphs = []"
   ]
  },
  {
   "cell_type": "code",
   "execution_count": 8,
   "metadata": {},
   "outputs": [],
   "source": [
    "for title in content_titles:\n",
    "    titles.append(title.a.text.strip())"
   ]
  },
  {
   "cell_type": "code",
   "execution_count": 9,
   "metadata": {},
   "outputs": [
    {
     "data": {
      "text/plain": [
       "['Update on Opportunity Rover after Martian Dust Storm',\n",
       " 'Mars Virtual Reality Software Wins NASA Award',\n",
       " 'Painting Cars for Mars',\n",
       " \"Curiosity Rover to Temporarily Switch 'Brains'\",\n",
       " 'Opportunity Emerges in a Dusty Picture',\n",
       " 'NASA Seeking Partner in Contest to Name Next Mars Rover',\n",
       " 'NASA’s MAVEN Selfie Marks Four Years in Orbit at Mars',\n",
       " 'MarCO Makes Space for Small Explorers',\n",
       " 'Curiosity Surveys a Mystery Under Dusty Skies',\n",
       " \"NASA's InSight Has a Thermometer for Mars\",\n",
       " 'Digital Creators: Apply for NASA Mars Landing Event',\n",
       " \"NASA's InSight Passes Halfway to Mars, Instruments Check In\",\n",
       " \"Six Things About Opportunity's Recovery Efforts\",\n",
       " \"Meet the People Behind NASA's InSight Mars Lander\",\n",
       " 'Mars Terraforming Not Possible Using Present-Day Technology',\n",
       " 'Opportunity Hunkers Down During Dust Storm',\n",
       " 'NASA Statement on Possible Subsurface Lake near Martian South Pole',\n",
       " \"JPL's 'Martians' Are Coming to Griffith Observatory\",\n",
       " \"NASA's MAVEN Spacecraft Finds That 'Stolen' Electrons Enable Unusual Aurora on Mars\",\n",
       " \"'Storm Chasers' on Mars Searching for Dusty Secrets\",\n",
       " 'NASA Mars Mission Adds Southern California Dates',\n",
       " 'Curiosity Captures Photos of Thickening Dust',\n",
       " 'NASA Encounters the Perfect Storm for Science',\n",
       " 'Media Telecon About Mars Dust Storm, Opportunity',\n",
       " 'NASA Finds Ancient Organic Material, Mysterious Methane on Mars',\n",
       " 'NASA to Host Live Discussion on New Mars Science Results',\n",
       " \"Mars Curiosity's Labs Are Back in Action\",\n",
       " 'NASA CubeSats Steer Toward Mars',\n",
       " 'Scientists Shrink Chemistry Lab to Seek Evidence of Life on Mars',\n",
       " 'InSight Steers Toward Mars',\n",
       " 'Drilling Success: Curiosity is Collecting Mars Rocks',\n",
       " \"NASA's Curiosity Rover Aims to Get Its Rhythm Back\",\n",
       " 'A Pale Blue Dot, As Seen by a CubeSat',\n",
       " 'Mars Helicopter to Fly on NASA’s Next Red Planet Rover Mission',\n",
       " \"NASA's First Deep-Space CubeSats Say: 'Polo!'\",\n",
       " 'NASA, ULA Launch Mission to Study How Mars Was Made',\n",
       " 'NASA’s First Mission to Study the Interior of Mars Awaits May 5 Launch',\n",
       " 'Vice President Pence Visits JPL, Previews NASA’s Next Mars Mission Launch',\n",
       " 'NASA Sets Sights on May 5 Launch of InSight to Mars',\n",
       " 'Results of Heat Shield Testing',\n",
       " 'NASA is Ready to Study the Heart of Mars',\n",
       " 'NASA Briefing on First Mission to Study Mars Interior',\n",
       " \"New 'AR' Mobile App Features 3-D NASA Spacecraft\",\n",
       " 'Opportunity Hunkers Down During Dust Storm',\n",
       " 'NASA Finds Ancient Organic Material, Mysterious Methane on Mars',\n",
       " 'NASA Invests in Visionary Technology',\n",
       " 'NASA is Ready to Study the Heart of Mars',\n",
       " 'NASA Briefing on First Mission to Study Mars Interior',\n",
       " \"New 'AR' Mobile App Features 3-D NASA Spacecraft\",\n",
       " 'Opportunity Hunkers Down During Dust Storm',\n",
       " 'NASA Finds Ancient Organic Material, Mysterious Methane on Mars',\n",
       " 'NASA Invests in Visionary Technology']"
      ]
     },
     "execution_count": 9,
     "metadata": {},
     "output_type": "execute_result"
    }
   ],
   "source": [
    "titles"
   ]
  },
  {
   "cell_type": "code",
   "execution_count": 10,
   "metadata": {},
   "outputs": [],
   "source": [
    "content_paragraphs = soup.find_all('div', class_ = 'rollover_description_inner')"
   ]
  },
  {
   "cell_type": "code",
   "execution_count": 11,
   "metadata": {},
   "outputs": [],
   "source": [
    "for paragraph in content_paragraphs:\n",
    "    paragraphs.append(paragraph.text.strip())"
   ]
  },
  {
   "cell_type": "code",
   "execution_count": 12,
   "metadata": {},
   "outputs": [],
   "source": [
    "latest_title = titles[0]\n",
    "latest_paragraph = paragraphs[0]"
   ]
  },
  {
   "cell_type": "markdown",
   "metadata": {},
   "source": [
    "## JPL Mars Space Images - Featured Image"
   ]
  },
  {
   "cell_type": "code",
   "execution_count": 13,
   "metadata": {},
   "outputs": [],
   "source": [
    "# Visit the following URL\n",
    "executable_path = {'executable_path': 'chromedriver'}\n",
    "browser = Browser('chrome', **executable_path, headless=False)\n",
    "url = 'https://www.jpl.nasa.gov/spaceimages/?search=&category=Mars'\n",
    "browser.visit(url)\n",
    "browser.click_link_by_partial_text('FULL IMAGE')"
   ]
  },
  {
   "cell_type": "code",
   "execution_count": 14,
   "metadata": {},
   "outputs": [],
   "source": [
    "html = browser.html\n",
    "soup = bs(html, 'html.parser')"
   ]
  },
  {
   "cell_type": "code",
   "execution_count": 15,
   "metadata": {},
   "outputs": [
    {
     "data": {
      "text/plain": [
       "<div class=\"img\">\n",
       "<img alt=\"Mutch Crater - False Color\" class=\"thumb\" src=\"/spaceimages/images/wallpaper/PIA22719-640x350.jpg\" title=\"Mutch Crater - False Color\"/>\n",
       "</div>"
      ]
     },
     "execution_count": 15,
     "metadata": {},
     "output_type": "execute_result"
    }
   ],
   "source": [
    "featured_image_url=soup.find('div', class_='img')\n",
    "featured_image_url"
   ]
  },
  {
   "cell_type": "code",
   "execution_count": 16,
   "metadata": {},
   "outputs": [
    {
     "data": {
      "text/plain": [
       "'/spaceimages/images/wallpaper/PIA22719-640x350.jpg'"
      ]
     },
     "execution_count": 16,
     "metadata": {},
     "output_type": "execute_result"
    }
   ],
   "source": [
    "featured_image_url = featured_image_url.find('img')['src']\n",
    "featured_image_url"
   ]
  },
  {
   "cell_type": "code",
   "execution_count": 17,
   "metadata": {},
   "outputs": [
    {
     "data": {
      "text/plain": [
       "'https://www.jpl.nasa.gov/spaceimages/images/wallpaper/PIA22719-640x350.jpg'"
      ]
     },
     "execution_count": 17,
     "metadata": {},
     "output_type": "execute_result"
    }
   ],
   "source": [
    "featured_image_url = 'https://www.jpl.nasa.gov' + featured_image_url\n",
    "featured_image_url"
   ]
  },
  {
   "cell_type": "markdown",
   "metadata": {},
   "source": [
    "# Mars Weather"
   ]
  },
  {
   "cell_type": "code",
   "execution_count": 18,
   "metadata": {},
   "outputs": [],
   "source": [
    "# Visit the following URL\n",
    "url = \"https://twitter.com/marswxreport?lang=en\"\n",
    "browser.visit(url)"
   ]
  },
  {
   "cell_type": "code",
   "execution_count": 19,
   "metadata": {},
   "outputs": [],
   "source": [
    "html = browser.html\n",
    "soup = bs(html, 'html.parser')"
   ]
  },
  {
   "cell_type": "code",
   "execution_count": 20,
   "metadata": {},
   "outputs": [
    {
     "data": {
      "text/plain": [
       "[<p class=\"TweetTextSize TweetTextSize--normal js-tweet-text tweet-text\" data-aria-label-part=\"0\" lang=\"en\">And finally - a stack of all the images - you can see so much detail here <a class=\"twitter-timeline-link\" data-expanded-url=\"https://dougellison.smugmug.com/Machines/Space-X-SAOCOM-1A/i-zbJzq8L\" dir=\"ltr\" href=\"https://t.co/r6pHbPsqq5\" rel=\"nofollow noopener\" target=\"_blank\" title=\"https://dougellison.smugmug.com/Machines/Space-X-SAOCOM-1A/i-zbJzq8L\"><span class=\"tco-ellipsis\"></span><span class=\"invisible\">https://</span><span class=\"js-display-url\">dougellison.smugmug.com/Machines/Space</span><span class=\"invisible\">-X-SAOCOM-1A/i-zbJzq8L</span><span class=\"tco-ellipsis\"><span class=\"invisible\"> </span>…</span></a><a class=\"twitter-timeline-link u-hidden\" data-pre-embedded=\"true\" dir=\"ltr\" href=\"https://t.co/9nLwAH3oZQ\">pic.twitter.com/9nLwAH3oZQ</a></p>,\n",
       " <p class=\"TweetTextSize TweetTextSize--normal js-tweet-text tweet-text\" data-aria-label-part=\"0\" lang=\"en\">We detected atomic oxygen in the Martian atmosphere for the first time since the Viking and Mariner missions of the 1970s. But our instruments detected less than expected, which may be due to variations in the Red Planet's atmosphere. Details: <a class=\"twitter-timeline-link\" data-expanded-url=\"https://go.nasa.gov/2Pav6mN\" dir=\"ltr\" href=\"https://t.co/JK8dYmHYgo\" rel=\"nofollow noopener\" target=\"_blank\" title=\"https://go.nasa.gov/2Pav6mN\"><span class=\"tco-ellipsis\"></span><span class=\"invisible\">https://</span><span class=\"js-display-url\">go.nasa.gov/2Pav6mN</span><span class=\"invisible\"></span><span class=\"tco-ellipsis\"><span class=\"invisible\"> </span></span></a><a class=\"twitter-timeline-link u-hidden\" data-pre-embedded=\"true\" dir=\"ltr\" href=\"https://t.co/UY3z6TnrlH\">pic.twitter.com/UY3z6TnrlH</a></p>,\n",
       " <p class=\"TweetTextSize TweetTextSize--normal js-tweet-text tweet-text\" data-aria-label-part=\"0\" lang=\"en\">NASA opened for business on this day in 1958. Replacing the previous agency National Advisory Committee for Aeronautics (NACA)<a class=\"twitter-timeline-link u-hidden\" data-pre-embedded=\"true\" dir=\"ltr\" href=\"https://t.co/NSoxyxpkyh\">pic.twitter.com/NSoxyxpkyh</a></p>,\n",
       " <p class=\"TweetTextSize TweetTextSize--normal js-tweet-text tweet-text\" data-aria-label-part=\"0\" lang=\"en\">I’m 60 days from landing on <a class=\"twitter-hashtag pretty-link js-nav\" data-query-source=\"hashtag_click\" dir=\"ltr\" href=\"/hashtag/Mars?src=hash\"><s>#</s><b>Mars</b></a>! To ensure my successful Entry, Descent and Landing (EDL), my team begins intensive preparations during the “approach” phase. This happens to be the phase I’m entering right now <img alt=\"🚀\" aria-label=\"Emoji: Rocket\" class=\"Emoji Emoji--forText\" draggable=\"false\" src=\"https://abs.twimg.com/emoji/v2/72x72/1f680.png\" title=\"Rocket\"/> More: <a class=\"twitter-timeline-link\" data-expanded-url=\"http://go.nasa.gov/2DEAjOl\" dir=\"ltr\" href=\"https://t.co/VN0RnUQxZo\" rel=\"nofollow noopener\" target=\"_blank\" title=\"http://go.nasa.gov/2DEAjOl\"><span class=\"tco-ellipsis\"></span><span class=\"invisible\">http://</span><span class=\"js-display-url\">go.nasa.gov/2DEAjOl</span><span class=\"invisible\"></span><span class=\"tco-ellipsis\"><span class=\"invisible\"> </span></span></a><a class=\"twitter-timeline-link u-hidden\" data-pre-embedded=\"true\" dir=\"ltr\" href=\"https://t.co/8hrnNiriGi\">pic.twitter.com/8hrnNiriGi</a></p>,\n",
       " <p class=\"TweetTextSize TweetTextSize--normal js-tweet-text tweet-text\" data-aria-label-part=\"0\" lang=\"en\">How did we know the recent Mars dust storm went global? The confirmation came from an unlikely place. Following the first orbital observations of it, evidence quietly materialized on the other side of the globe from a small motor on <a class=\"twitter-atreply pretty-link js-nav\" data-mentioned-user-id=\"15473958\" dir=\"ltr\" href=\"/MarsCuriosity\"><s>@</s><b>MarsCuriosity</b></a>: <a class=\"twitter-timeline-link\" data-expanded-url=\"https://go.nasa.gov/2DwWE4L\" dir=\"ltr\" href=\"https://t.co/RnPhcQ3ctT\" rel=\"nofollow noopener\" target=\"_blank\" title=\"https://go.nasa.gov/2DwWE4L\"><span class=\"tco-ellipsis\"></span><span class=\"invisible\">https://</span><span class=\"js-display-url\">go.nasa.gov/2DwWE4L</span><span class=\"invisible\"></span><span class=\"tco-ellipsis\"><span class=\"invisible\"> </span></span></a><a class=\"twitter-timeline-link u-hidden\" data-pre-embedded=\"true\" dir=\"ltr\" href=\"https://t.co/pJruiAvveb\">pic.twitter.com/pJruiAvveb</a></p>,\n",
       " <p class=\"TweetTextSize TweetTextSize--normal js-tweet-text tweet-text\" data-aria-label-part=\"0\" lang=\"en\">That dusty dot on the slopes of the Mars’ Perseverance Valley is the Opportunity rover, as seen by MRO’s HiRISE camera.  We last heard from Oppy over 100 days ago. <a class=\"twitter-timeline-link\" data-expanded-url=\"https://www.nasa.gov/feature/jpl/opportunity-emerges-in-a-dusty-picture\" dir=\"ltr\" href=\"https://t.co/fQW0mJwP5E\" rel=\"nofollow noopener\" target=\"_blank\" title=\"https://www.nasa.gov/feature/jpl/opportunity-emerges-in-a-dusty-picture\"><span class=\"tco-ellipsis\"></span><span class=\"invisible\">https://www.</span><span class=\"js-display-url\">nasa.gov/feature/jpl/op</span><span class=\"invisible\">portunity-emerges-in-a-dusty-picture</span><span class=\"tco-ellipsis\"><span class=\"invisible\"> </span>…</span></a><a class=\"twitter-timeline-link u-hidden\" data-pre-embedded=\"true\" dir=\"ltr\" href=\"https://t.co/x9WxH6hIhB\">pic.twitter.com/x9WxH6hIhB</a></p>,\n",
       " <p class=\"TweetTextSize TweetTextSize--normal js-tweet-text tweet-text\" data-aria-label-part=\"0\" lang=\"en\">Jose Morales captured Mars from Chicago last night. 15000 frames for this Mars tonight.  The South Pole, Syrtis Major Planum, and Hellas Planitia are visible.<a class=\"twitter-timeline-link u-hidden\" data-pre-embedded=\"true\" dir=\"ltr\" href=\"https://t.co/cFkgmdoHDV\">pic.twitter.com/cFkgmdoHDV</a></p>,\n",
       " <p class=\"TweetTextSize TweetTextSize--normal js-tweet-text tweet-text\" data-aria-label-part=\"0\" lang=\"en\">Astronomical autumn begins with the September equinox at 9:54 ET tonight <a class=\"twitter-timeline-link\" data-expanded-url=\"https://www.wral.com/autumn-s-arrival-celebrated-differently-at-different-times-around-the-world/17864537/\" dir=\"ltr\" href=\"https://t.co/TSojzbK6Dn\" rel=\"nofollow noopener\" target=\"_blank\" title=\"https://www.wral.com/autumn-s-arrival-celebrated-differently-at-different-times-around-the-world/17864537/\"><span class=\"tco-ellipsis\"></span><span class=\"invisible\">https://www.</span><span class=\"js-display-url\">wral.com/autumn-s-arriv</span><span class=\"invisible\">al-celebrated-differently-at-different-times-around-the-world/17864537/</span><span class=\"tco-ellipsis\"><span class=\"invisible\"> </span>…</span></a><a class=\"twitter-timeline-link u-hidden\" data-pre-embedded=\"true\" dir=\"ltr\" href=\"https://t.co/cUArBS7WFV\">pic.twitter.com/cUArBS7WFV</a></p>,\n",
       " <p class=\"TweetTextSize TweetTextSize--normal js-tweet-text tweet-text\" data-aria-label-part=\"0\" lang=\"en\">Sol 2171 (2018-09-14), high -12C/10F, low -65C/-84F, pressure at 8.79 hPa, daylight 05:43-17:59</p>,\n",
       " <p class=\"TweetTextSize TweetTextSize--normal js-tweet-text tweet-text\" data-aria-label-part=\"0\" lang=\"en\">Sol 2170 (2018-09-13), high -12C/10F, low -68C/-90F, pressure at 8.86 hPa, daylight 05:42-17:59</p>,\n",
       " <p class=\"TweetTextSize TweetTextSize--normal js-tweet-text tweet-text\" data-aria-label-part=\"0\" lang=\"en\">Sol 2169 (2018-09-12), high -10C/14F, low -70C/-93F, pressure at 8.82 hPa, daylight 05:41-17:58</p>,\n",
       " <p class=\"TweetTextSize TweetTextSize--normal js-tweet-text tweet-text\" data-aria-label-part=\"0\" lang=\"en\">Sol 2168 (2018-09-11), high -13C/8F, low -69C/-92F, pressure at 8.99 hPa, daylight 05:41-17:57</p>,\n",
       " <p class=\"TweetTextSize TweetTextSize--normal js-tweet-text tweet-text\" data-aria-label-part=\"0\" lang=\"en\">Sol 2167 (2018-09-10), high -12C/10F, low -73C/-99F, pressure at 8.85 hPa, daylight 05:40-17:57</p>,\n",
       " <p class=\"TweetTextSize TweetTextSize--normal js-tweet-text tweet-text\" data-aria-label-part=\"0\" lang=\"en\">Mars Thermospheric Variability Revealed by MAVEN EUVM Solar Occultations: Structure at Aphelion and Perihelion and Response to EUV Forcing<a class=\"twitter-timeline-link u-hidden\" data-pre-embedded=\"true\" dir=\"ltr\" href=\"https://t.co/0cCv8sUVjh\">pic.twitter.com/0cCv8sUVjh</a></p>,\n",
       " <p class=\"TweetTextSize TweetTextSize--normal js-tweet-text tweet-text\" data-aria-label-part=\"0\" lang=\"en\">Sol 2166 (2018-09-09), high -10C/14F, low -72C/-97F, pressure at 8.87 hPa, daylight 05:40-17:56</p>,\n",
       " <p class=\"TweetTextSize TweetTextSize--normal js-tweet-text tweet-text\" data-aria-label-part=\"4\" lang=\"en\">Congrats to NASA/JPL for the Emmy Award for Outstanding Original Interactive Program for its coverage of the Cassini mission's Grand Finale at Saturn. <a class=\"twitter-timeline-link\" data-expanded-url=\"https://www.jpl.nasa.gov/news/news.php?feature=7232\" dir=\"ltr\" href=\"https://t.co/q0TG9wITaR\" rel=\"nofollow noopener\" target=\"_blank\" title=\"https://www.jpl.nasa.gov/news/news.php?feature=7232\"><span class=\"tco-ellipsis\"></span><span class=\"invisible\">https://www.</span><span class=\"js-display-url\">jpl.nasa.gov/news/news.php?</span><span class=\"invisible\">feature=7232</span><span class=\"tco-ellipsis\"><span class=\"invisible\"> </span>…</span></a><a class=\"twitter-timeline-link u-hidden\" data-expanded-url=\"https://twitter.com/VeronicaMcG/status/1039221529005813762\" dir=\"ltr\" href=\"https://t.co/VA2DPJW4PE\" rel=\"nofollow noopener\" target=\"_blank\" title=\"https://twitter.com/VeronicaMcG/status/1039221529005813762\"><span class=\"tco-ellipsis\"></span><span class=\"invisible\">https://</span><span class=\"js-display-url\">twitter.com/VeronicaMcG/st</span><span class=\"invisible\">atus/1039221529005813762</span><span class=\"tco-ellipsis\"><span class=\"invisible\"> </span>…</span></a></p>,\n",
       " <p class=\"TweetTextSize TweetTextSize--normal js-tweet-text tweet-text\" data-aria-label-part=\"0\" lang=\"en\">Sol 2165 (2018-09-08), high -10C/14F, low -70C/-93F, pressure at 8.87 hPa, daylight 05:39-17:55</p>,\n",
       " <p class=\"TweetTextSize TweetTextSize--normal js-tweet-text tweet-text\" data-aria-label-part=\"0\" lang=\"en\">Sol 2164 (2018-09-07), high -8C/17F, low -68C/-90F, pressure at 8.86 hPa, daylight 05:39-17:55</p>,\n",
       " <p class=\"TweetTextSize TweetTextSize--normal js-tweet-text tweet-text\" data-aria-label-part=\"0\" lang=\"en\">Sol 2163 (2018-09-06), high -5C/23F, low -70C/-93F, pressure at 8.86 hPa, daylight 05:38-17:54</p>,\n",
       " <p class=\"TweetTextSize TweetTextSize--normal js-tweet-text tweet-text\" data-aria-label-part=\"0\" lang=\"en\">Mars is hard\n",
       " \n",
       " Jason Davis's Mars Exploration Family Portrait\n",
       " <a class=\"twitter-timeline-link\" data-expanded-url=\"http://www.planetary.org/blogs/jason-davis/updated-mars-exploration-family-portrait.html\" dir=\"ltr\" href=\"https://t.co/7IdbzvEUGS\" rel=\"nofollow noopener\" target=\"_blank\" title=\"http://www.planetary.org/blogs/jason-davis/updated-mars-exploration-family-portrait.html\"><span class=\"tco-ellipsis\"></span><span class=\"invisible\">http://www.</span><span class=\"js-display-url\">planetary.org/blogs/jason-da</span><span class=\"invisible\">vis/updated-mars-exploration-family-portrait.html</span><span class=\"tco-ellipsis\"><span class=\"invisible\"> </span>…</span></a><a class=\"twitter-timeline-link u-hidden\" data-pre-embedded=\"true\" dir=\"ltr\" href=\"https://t.co/kCCusty5hw\">pic.twitter.com/kCCusty5hw</a></p>]"
      ]
     },
     "execution_count": 20,
     "metadata": {},
     "output_type": "execute_result"
    }
   ],
   "source": [
    "tweets=soup.find_all('p', class_='TweetTextSize')\n",
    "tweets"
   ]
  },
  {
   "cell_type": "code",
   "execution_count": 21,
   "metadata": {},
   "outputs": [],
   "source": [
    "# loop through every tweet you grab (findAll)\n",
    "for tweet in tweets:\n",
    "# if the tweet contains \"Sol\" it is a tweet about weather\n",
    "   if 'Sol' in tweet.text:\n",
    "       mars_weather = tweet.text\n",
    "       break"
   ]
  },
  {
   "cell_type": "code",
   "execution_count": 22,
   "metadata": {},
   "outputs": [
    {
     "name": "stdout",
     "output_type": "stream",
     "text": [
      "Sol 2171 (2018-09-14), high -12C/10F, low -65C/-84F, pressure at 8.79 hPa, daylight 05:43-17:59\n"
     ]
    }
   ],
   "source": [
    "print(mars_weather)"
   ]
  },
  {
   "cell_type": "markdown",
   "metadata": {},
   "source": [
    "# Mars Facts"
   ]
  },
  {
   "cell_type": "code",
   "execution_count": 23,
   "metadata": {},
   "outputs": [],
   "source": [
    "import pandas as pd"
   ]
  },
  {
   "cell_type": "code",
   "execution_count": 24,
   "metadata": {},
   "outputs": [],
   "source": [
    "url = 'https://space-facts.com/mars/'"
   ]
  },
  {
   "cell_type": "code",
   "execution_count": 25,
   "metadata": {},
   "outputs": [
    {
     "data": {
      "text/plain": [
       "[                      0                              1\n",
       " 0  Equatorial Diameter:                       6,792 km\n",
       " 1       Polar Diameter:                       6,752 km\n",
       " 2                 Mass:  6.42 x 10^23 kg (10.7% Earth)\n",
       " 3                Moons:            2 (Phobos & Deimos)\n",
       " 4       Orbit Distance:       227,943,824 km (1.52 AU)\n",
       " 5         Orbit Period:           687 days (1.9 years)\n",
       " 6  Surface Temperature:                  -153 to 20 °C\n",
       " 7         First Record:              2nd millennium BC\n",
       " 8          Recorded By:           Egyptian astronomers]"
      ]
     },
     "execution_count": 25,
     "metadata": {},
     "output_type": "execute_result"
    }
   ],
   "source": [
    "mars_facts = pd.read_html(url)\n",
    "mars_facts"
   ]
  },
  {
   "cell_type": "code",
   "execution_count": 26,
   "metadata": {},
   "outputs": [
    {
     "data": {
      "text/plain": [
       "list"
      ]
     },
     "execution_count": 26,
     "metadata": {},
     "output_type": "execute_result"
    }
   ],
   "source": [
    "type(mars_facts)"
   ]
  },
  {
   "cell_type": "code",
   "execution_count": 27,
   "metadata": {},
   "outputs": [
    {
     "data": {
      "text/html": [
       "<div>\n",
       "<style scoped>\n",
       "    .dataframe tbody tr th:only-of-type {\n",
       "        vertical-align: middle;\n",
       "    }\n",
       "\n",
       "    .dataframe tbody tr th {\n",
       "        vertical-align: top;\n",
       "    }\n",
       "\n",
       "    .dataframe thead th {\n",
       "        text-align: right;\n",
       "    }\n",
       "</style>\n",
       "<table border=\"1\" class=\"dataframe\">\n",
       "  <thead>\n",
       "    <tr style=\"text-align: right;\">\n",
       "      <th></th>\n",
       "      <th>0</th>\n",
       "      <th>1</th>\n",
       "    </tr>\n",
       "  </thead>\n",
       "  <tbody>\n",
       "    <tr>\n",
       "      <th>0</th>\n",
       "      <td>Equatorial Diameter:</td>\n",
       "      <td>6,792 km</td>\n",
       "    </tr>\n",
       "    <tr>\n",
       "      <th>1</th>\n",
       "      <td>Polar Diameter:</td>\n",
       "      <td>6,752 km</td>\n",
       "    </tr>\n",
       "    <tr>\n",
       "      <th>2</th>\n",
       "      <td>Mass:</td>\n",
       "      <td>6.42 x 10^23 kg (10.7% Earth)</td>\n",
       "    </tr>\n",
       "    <tr>\n",
       "      <th>3</th>\n",
       "      <td>Moons:</td>\n",
       "      <td>2 (Phobos &amp; Deimos)</td>\n",
       "    </tr>\n",
       "    <tr>\n",
       "      <th>4</th>\n",
       "      <td>Orbit Distance:</td>\n",
       "      <td>227,943,824 km (1.52 AU)</td>\n",
       "    </tr>\n",
       "    <tr>\n",
       "      <th>5</th>\n",
       "      <td>Orbit Period:</td>\n",
       "      <td>687 days (1.9 years)</td>\n",
       "    </tr>\n",
       "    <tr>\n",
       "      <th>6</th>\n",
       "      <td>Surface Temperature:</td>\n",
       "      <td>-153 to 20 °C</td>\n",
       "    </tr>\n",
       "    <tr>\n",
       "      <th>7</th>\n",
       "      <td>First Record:</td>\n",
       "      <td>2nd millennium BC</td>\n",
       "    </tr>\n",
       "    <tr>\n",
       "      <th>8</th>\n",
       "      <td>Recorded By:</td>\n",
       "      <td>Egyptian astronomers</td>\n",
       "    </tr>\n",
       "  </tbody>\n",
       "</table>\n",
       "</div>"
      ],
      "text/plain": [
       "                      0                              1\n",
       "0  Equatorial Diameter:                       6,792 km\n",
       "1       Polar Diameter:                       6,752 km\n",
       "2                 Mass:  6.42 x 10^23 kg (10.7% Earth)\n",
       "3                Moons:            2 (Phobos & Deimos)\n",
       "4       Orbit Distance:       227,943,824 km (1.52 AU)\n",
       "5         Orbit Period:           687 days (1.9 years)\n",
       "6  Surface Temperature:                  -153 to 20 °C\n",
       "7         First Record:              2nd millennium BC\n",
       "8          Recorded By:           Egyptian astronomers"
      ]
     },
     "execution_count": 27,
     "metadata": {},
     "output_type": "execute_result"
    }
   ],
   "source": [
    "mars_facts[0]"
   ]
  },
  {
   "cell_type": "code",
   "execution_count": 28,
   "metadata": {},
   "outputs": [
    {
     "data": {
      "text/html": [
       "<div>\n",
       "<style scoped>\n",
       "    .dataframe tbody tr th:only-of-type {\n",
       "        vertical-align: middle;\n",
       "    }\n",
       "\n",
       "    .dataframe tbody tr th {\n",
       "        vertical-align: top;\n",
       "    }\n",
       "\n",
       "    .dataframe thead th {\n",
       "        text-align: right;\n",
       "    }\n",
       "</style>\n",
       "<table border=\"1\" class=\"dataframe\">\n",
       "  <thead>\n",
       "    <tr style=\"text-align: right;\">\n",
       "      <th></th>\n",
       "      <th>features</th>\n",
       "      <th>values</th>\n",
       "    </tr>\n",
       "  </thead>\n",
       "  <tbody>\n",
       "    <tr>\n",
       "      <th>0</th>\n",
       "      <td>Equatorial Diameter:</td>\n",
       "      <td>6,792 km</td>\n",
       "    </tr>\n",
       "    <tr>\n",
       "      <th>1</th>\n",
       "      <td>Polar Diameter:</td>\n",
       "      <td>6,752 km</td>\n",
       "    </tr>\n",
       "    <tr>\n",
       "      <th>2</th>\n",
       "      <td>Mass:</td>\n",
       "      <td>6.42 x 10^23 kg (10.7% Earth)</td>\n",
       "    </tr>\n",
       "    <tr>\n",
       "      <th>3</th>\n",
       "      <td>Moons:</td>\n",
       "      <td>2 (Phobos &amp; Deimos)</td>\n",
       "    </tr>\n",
       "    <tr>\n",
       "      <th>4</th>\n",
       "      <td>Orbit Distance:</td>\n",
       "      <td>227,943,824 km (1.52 AU)</td>\n",
       "    </tr>\n",
       "  </tbody>\n",
       "</table>\n",
       "</div>"
      ],
      "text/plain": [
       "               features                         values\n",
       "0  Equatorial Diameter:                       6,792 km\n",
       "1       Polar Diameter:                       6,752 km\n",
       "2                 Mass:  6.42 x 10^23 kg (10.7% Earth)\n",
       "3                Moons:            2 (Phobos & Deimos)\n",
       "4       Orbit Distance:       227,943,824 km (1.52 AU)"
      ]
     },
     "execution_count": 28,
     "metadata": {},
     "output_type": "execute_result"
    }
   ],
   "source": [
    "df = mars_facts[0]\n",
    "df.columns = ['features', 'values']\n",
    "df.head()"
   ]
  },
  {
   "cell_type": "markdown",
   "metadata": {},
   "source": [
    "# Mars Hemispheres"
   ]
  },
  {
   "cell_type": "code",
   "execution_count": 29,
   "metadata": {},
   "outputs": [],
   "source": [
    "url = \"https://astrogeology.usgs.gov/search/results?q=hemisphere+enhanced&k1=target&v1=Mars\"\n",
    "browser.visit(url)"
   ]
  },
  {
   "cell_type": "code",
   "execution_count": 30,
   "metadata": {},
   "outputs": [],
   "source": [
    "browser.click_link_by_partial_text('Cerberus')"
   ]
  },
  {
   "cell_type": "code",
   "execution_count": 31,
   "metadata": {},
   "outputs": [],
   "source": [
    "browser.click_link_by_partial_text('Open')"
   ]
  },
  {
   "cell_type": "code",
   "execution_count": 32,
   "metadata": {},
   "outputs": [],
   "source": [
    "html = browser.html\n",
    "soup = bs(html, 'html.parser')"
   ]
  },
  {
   "cell_type": "code",
   "execution_count": 33,
   "metadata": {},
   "outputs": [
    {
     "data": {
      "text/plain": [
       "<img class=\"wide-image\" src=\"/cache/images/cfa62af2557222a02478f1fcd781d445_cerberus_enhanced.tif_full.jpg\"/>"
      ]
     },
     "execution_count": 33,
     "metadata": {},
     "output_type": "execute_result"
    }
   ],
   "source": [
    "img3=soup.find('img', class_='wide-image')\n",
    "img3"
   ]
  },
  {
   "cell_type": "code",
   "execution_count": 34,
   "metadata": {},
   "outputs": [
    {
     "data": {
      "text/plain": [
       "'/cache/images/cfa62af2557222a02478f1fcd781d445_cerberus_enhanced.tif_full.jpg'"
      ]
     },
     "execution_count": 34,
     "metadata": {},
     "output_type": "execute_result"
    }
   ],
   "source": [
    "img3 = img3.get('src')\n",
    "img3"
   ]
  },
  {
   "cell_type": "code",
   "execution_count": 35,
   "metadata": {},
   "outputs": [
    {
     "data": {
      "text/plain": [
       "'https://astrogeology.usgs.gov/cache/images/cfa62af2557222a02478f1fcd781d445_cerberus_enhanced.tif_full.jpg'"
      ]
     },
     "execution_count": 35,
     "metadata": {},
     "output_type": "execute_result"
    }
   ],
   "source": [
    "img3 = 'https://astrogeology.usgs.gov' + img3\n",
    "img3"
   ]
  },
  {
   "cell_type": "code",
   "execution_count": 36,
   "metadata": {},
   "outputs": [],
   "source": [
    "browser.back()"
   ]
  },
  {
   "cell_type": "code",
   "execution_count": 37,
   "metadata": {},
   "outputs": [],
   "source": [
    "browser.click_link_by_partial_text('Schiaparelli')"
   ]
  },
  {
   "cell_type": "code",
   "execution_count": 38,
   "metadata": {},
   "outputs": [],
   "source": [
    "browser.click_link_by_partial_text('Open')"
   ]
  },
  {
   "cell_type": "code",
   "execution_count": 39,
   "metadata": {},
   "outputs": [],
   "source": [
    "html = browser.html\n",
    "soup = bs(html, 'html.parser')"
   ]
  },
  {
   "cell_type": "code",
   "execution_count": 40,
   "metadata": {},
   "outputs": [
    {
     "data": {
      "text/plain": [
       "<img class=\"wide-image\" src=\"/cache/images/3cdd1cbf5e0813bba925c9030d13b62e_schiaparelli_enhanced.tif_full.jpg\"/>"
      ]
     },
     "execution_count": 40,
     "metadata": {},
     "output_type": "execute_result"
    }
   ],
   "source": [
    "img4=soup.find('img', class_='wide-image')\n",
    "img4"
   ]
  },
  {
   "cell_type": "code",
   "execution_count": 41,
   "metadata": {},
   "outputs": [
    {
     "data": {
      "text/plain": [
       "'/cache/images/3cdd1cbf5e0813bba925c9030d13b62e_schiaparelli_enhanced.tif_full.jpg'"
      ]
     },
     "execution_count": 41,
     "metadata": {},
     "output_type": "execute_result"
    }
   ],
   "source": [
    "img4 = img4.get('src')\n",
    "img4"
   ]
  },
  {
   "cell_type": "code",
   "execution_count": 42,
   "metadata": {},
   "outputs": [
    {
     "data": {
      "text/plain": [
       "'https://astrogeology.usgs.gov/cache/images/3cdd1cbf5e0813bba925c9030d13b62e_schiaparelli_enhanced.tif_full.jpg'"
      ]
     },
     "execution_count": 42,
     "metadata": {},
     "output_type": "execute_result"
    }
   ],
   "source": [
    "img4 = 'https://astrogeology.usgs.gov' + img4\n",
    "img4"
   ]
  },
  {
   "cell_type": "code",
   "execution_count": 43,
   "metadata": {},
   "outputs": [],
   "source": [
    "browser.back()"
   ]
  },
  {
   "cell_type": "code",
   "execution_count": 44,
   "metadata": {},
   "outputs": [],
   "source": [
    "browser.click_link_by_partial_text('Syrtis')"
   ]
  },
  {
   "cell_type": "code",
   "execution_count": 45,
   "metadata": {},
   "outputs": [],
   "source": [
    "browser.click_link_by_partial_text('Open')"
   ]
  },
  {
   "cell_type": "code",
   "execution_count": 47,
   "metadata": {},
   "outputs": [],
   "source": [
    "html = browser.html\n",
    "soup = bs(html, 'html.parser')"
   ]
  },
  {
   "cell_type": "code",
   "execution_count": 48,
   "metadata": {},
   "outputs": [
    {
     "data": {
      "text/plain": [
       "<img class=\"wide-image\" src=\"/cache/images/ae209b4e408bb6c3e67b6af38168cf28_syrtis_major_enhanced.tif_full.jpg\"/>"
      ]
     },
     "execution_count": 48,
     "metadata": {},
     "output_type": "execute_result"
    }
   ],
   "source": [
    "img5=soup.find('img', class_='wide-image')\n",
    "img5"
   ]
  },
  {
   "cell_type": "code",
   "execution_count": 49,
   "metadata": {},
   "outputs": [
    {
     "data": {
      "text/plain": [
       "'/cache/images/ae209b4e408bb6c3e67b6af38168cf28_syrtis_major_enhanced.tif_full.jpg'"
      ]
     },
     "execution_count": 49,
     "metadata": {},
     "output_type": "execute_result"
    }
   ],
   "source": [
    "img5 = img5.get('src')\n",
    "img5"
   ]
  },
  {
   "cell_type": "code",
   "execution_count": 50,
   "metadata": {},
   "outputs": [
    {
     "data": {
      "text/plain": [
       "'https://astrogeology.usgs.gov/cache/images/ae209b4e408bb6c3e67b6af38168cf28_syrtis_major_enhanced.tif_full.jpg'"
      ]
     },
     "execution_count": 50,
     "metadata": {},
     "output_type": "execute_result"
    }
   ],
   "source": [
    "img5 = 'https://astrogeology.usgs.gov' + img5\n",
    "img5"
   ]
  },
  {
   "cell_type": "code",
   "execution_count": 51,
   "metadata": {},
   "outputs": [],
   "source": [
    "browser.back()"
   ]
  },
  {
   "cell_type": "code",
   "execution_count": 52,
   "metadata": {},
   "outputs": [],
   "source": [
    "browser.click_link_by_partial_text('Valles')"
   ]
  },
  {
   "cell_type": "code",
   "execution_count": 53,
   "metadata": {},
   "outputs": [],
   "source": [
    "browser.click_link_by_partial_text('Open')"
   ]
  },
  {
   "cell_type": "code",
   "execution_count": 54,
   "metadata": {},
   "outputs": [],
   "source": [
    "html = browser.html\n",
    "soup = bs(html, 'html.parser')"
   ]
  },
  {
   "cell_type": "code",
   "execution_count": 55,
   "metadata": {},
   "outputs": [
    {
     "data": {
      "text/plain": [
       "<img class=\"wide-image\" src=\"/cache/images/7cf2da4bf549ed01c17f206327be4db7_valles_marineris_enhanced.tif_full.jpg\"/>"
      ]
     },
     "execution_count": 55,
     "metadata": {},
     "output_type": "execute_result"
    }
   ],
   "source": [
    "img6=soup.find('img', class_='wide-image')\n",
    "img6"
   ]
  },
  {
   "cell_type": "code",
   "execution_count": 56,
   "metadata": {},
   "outputs": [
    {
     "data": {
      "text/plain": [
       "'/cache/images/7cf2da4bf549ed01c17f206327be4db7_valles_marineris_enhanced.tif_full.jpg'"
      ]
     },
     "execution_count": 56,
     "metadata": {},
     "output_type": "execute_result"
    }
   ],
   "source": [
    "img6 = img6.get('src')\n",
    "img6"
   ]
  },
  {
   "cell_type": "code",
   "execution_count": 57,
   "metadata": {},
   "outputs": [
    {
     "data": {
      "text/plain": [
       "'https://astrogeology.usgs.gov/cache/images/7cf2da4bf549ed01c17f206327be4db7_valles_marineris_enhanced.tif_full.jpg'"
      ]
     },
     "execution_count": 57,
     "metadata": {},
     "output_type": "execute_result"
    }
   ],
   "source": [
    "img6 = 'https://astrogeology.usgs.gov' + img6\n",
    "img6"
   ]
  },
  {
   "cell_type": "code",
   "execution_count": 58,
   "metadata": {},
   "outputs": [],
   "source": [
    "title1= img3.split('/')\n",
    "title1 = title1[5].split('_')[1]\n",
    "title2 = img4.split('/')\n",
    "title2= title2[5].split('_')[1]\n",
    "title3 = img5.split('/')\n",
    "title3 = title3[5].split('_')[1]\n",
    "title4 = img6.split('/')\n",
    "title4 = title4[5].split('_')[1]"
   ]
  },
  {
   "cell_type": "code",
   "execution_count": 59,
   "metadata": {},
   "outputs": [],
   "source": [
    "img_urls =[(title1, img3),(title2, img4),(title3, img5),(title4, img6)]"
   ]
  },
  {
   "cell_type": "code",
   "execution_count": 60,
   "metadata": {},
   "outputs": [
    {
     "name": "stdout",
     "output_type": "stream",
     "text": [
      "[('cerberus', 'https://astrogeology.usgs.gov/cache/images/cfa62af2557222a02478f1fcd781d445_cerberus_enhanced.tif_full.jpg'), ('schiaparelli', 'https://astrogeology.usgs.gov/cache/images/3cdd1cbf5e0813bba925c9030d13b62e_schiaparelli_enhanced.tif_full.jpg'), ('syrtis', 'https://astrogeology.usgs.gov/cache/images/ae209b4e408bb6c3e67b6af38168cf28_syrtis_major_enhanced.tif_full.jpg'), ('valles', 'https://astrogeology.usgs.gov/cache/images/7cf2da4bf549ed01c17f206327be4db7_valles_marineris_enhanced.tif_full.jpg')]\n"
     ]
    }
   ],
   "source": [
    "print(img_urls)"
   ]
  },
  {
   "cell_type": "code",
   "execution_count": null,
   "metadata": {},
   "outputs": [],
   "source": []
  }
 ],
 "metadata": {
  "kernelspec": {
   "display_name": "Python 3",
   "language": "python",
   "name": "python3"
  },
  "language_info": {
   "codemirror_mode": {
    "name": "ipython",
    "version": 3
   },
   "file_extension": ".py",
   "mimetype": "text/x-python",
   "name": "python",
   "nbconvert_exporter": "python",
   "pygments_lexer": "ipython3",
   "version": "3.6.5"
  }
 },
 "nbformat": 4,
 "nbformat_minor": 2
}
